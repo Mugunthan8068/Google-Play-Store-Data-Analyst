{
 "cells": [
  {
   "cell_type": "code",
   "execution_count": 80,
   "id": "7f779876",
   "metadata": {},
   "outputs": [],
   "source": [
    "import pandas as pd \n",
    "import numpy as np \n",
    "import seaborn as sns\n",
    "import matplotlib.pyplot as plt\n",
    "import plotly.express as px\n",
    "import plotly.graph_objects as go\n",
    "import plotly.io as pio\n",
    "import nltk\n",
    "from nltk.sentiment.vader import SentimentIntensityAnalyzer\n",
    "import os\n",
    "import webbrowser\n",
    "import re\n",
    "from wordcloud import WordCloud, STOPWORDS\n",
    "from collections import Counter\n",
    "import pytz\n",
    "from datetime import datetime"
   ]
  },
  {
   "cell_type": "code",
   "execution_count": 3,
   "id": "e976525c",
   "metadata": {},
   "outputs": [
    {
     "name": "stderr",
     "output_type": "stream",
     "text": [
      "[nltk_data] Downloading package vader_lexicon to\n",
      "[nltk_data]     C:\\Users\\MUGUNTHAN.A.R\\AppData\\Roaming\\nltk_data...\n",
      "[nltk_data]   Package vader_lexicon is already up-to-date!\n"
     ]
    },
    {
     "data": {
      "text/plain": [
       "True"
      ]
     },
     "execution_count": 3,
     "metadata": {},
     "output_type": "execute_result"
    }
   ],
   "source": [
    "nltk.download('vader_lexicon')"
   ]
  },
  {
   "cell_type": "code",
   "execution_count": 4,
   "id": "3f16b29c",
   "metadata": {},
   "outputs": [],
   "source": [
    "app_data=pd.read_csv(\"D:/Google-Play-Store-Analytics-main/Play Store Data.csv\")\n",
    "review_data=pd.read_csv(\"D:/Google-Play-Store-Analytics-main/User Reviews.csv\")"
   ]
  },
  {
   "cell_type": "code",
   "execution_count": 5,
   "id": "db86ef32",
   "metadata": {},
   "outputs": [
    {
     "data": {
      "text/html": [
       "<div>\n",
       "<style scoped>\n",
       "    .dataframe tbody tr th:only-of-type {\n",
       "        vertical-align: middle;\n",
       "    }\n",
       "\n",
       "    .dataframe tbody tr th {\n",
       "        vertical-align: top;\n",
       "    }\n",
       "\n",
       "    .dataframe thead th {\n",
       "        text-align: right;\n",
       "    }\n",
       "</style>\n",
       "<table border=\"1\" class=\"dataframe\">\n",
       "  <thead>\n",
       "    <tr style=\"text-align: right;\">\n",
       "      <th></th>\n",
       "      <th>App</th>\n",
       "      <th>Category</th>\n",
       "      <th>Rating</th>\n",
       "      <th>Reviews</th>\n",
       "      <th>Size</th>\n",
       "      <th>Installs</th>\n",
       "      <th>Type</th>\n",
       "      <th>Price</th>\n",
       "      <th>Content Rating</th>\n",
       "      <th>Genres</th>\n",
       "      <th>Last Updated</th>\n",
       "      <th>Current Ver</th>\n",
       "      <th>Android Ver</th>\n",
       "    </tr>\n",
       "  </thead>\n",
       "  <tbody>\n",
       "    <tr>\n",
       "      <th>0</th>\n",
       "      <td>Photo Editor &amp; Candy Camera &amp; Grid &amp; ScrapBook</td>\n",
       "      <td>ART_AND_DESIGN</td>\n",
       "      <td>4.1</td>\n",
       "      <td>159</td>\n",
       "      <td>19M</td>\n",
       "      <td>10,000+</td>\n",
       "      <td>Free</td>\n",
       "      <td>0</td>\n",
       "      <td>Everyone</td>\n",
       "      <td>Art &amp; Design</td>\n",
       "      <td>January 7, 2018</td>\n",
       "      <td>1.0.0</td>\n",
       "      <td>4.0.3 and up</td>\n",
       "    </tr>\n",
       "    <tr>\n",
       "      <th>1</th>\n",
       "      <td>Coloring book moana</td>\n",
       "      <td>ART_AND_DESIGN</td>\n",
       "      <td>3.9</td>\n",
       "      <td>967</td>\n",
       "      <td>14M</td>\n",
       "      <td>500,000+</td>\n",
       "      <td>Free</td>\n",
       "      <td>0</td>\n",
       "      <td>Everyone</td>\n",
       "      <td>Art &amp; Design;Pretend Play</td>\n",
       "      <td>January 15, 2018</td>\n",
       "      <td>2.0.0</td>\n",
       "      <td>4.0.3 and up</td>\n",
       "    </tr>\n",
       "    <tr>\n",
       "      <th>2</th>\n",
       "      <td>U Launcher Lite – FREE Live Cool Themes, Hide ...</td>\n",
       "      <td>ART_AND_DESIGN</td>\n",
       "      <td>4.7</td>\n",
       "      <td>87510</td>\n",
       "      <td>8.7M</td>\n",
       "      <td>5,000,000+</td>\n",
       "      <td>Free</td>\n",
       "      <td>0</td>\n",
       "      <td>Everyone</td>\n",
       "      <td>Art &amp; Design</td>\n",
       "      <td>August 1, 2018</td>\n",
       "      <td>1.2.4</td>\n",
       "      <td>4.0.3 and up</td>\n",
       "    </tr>\n",
       "    <tr>\n",
       "      <th>3</th>\n",
       "      <td>Sketch - Draw &amp; Paint</td>\n",
       "      <td>ART_AND_DESIGN</td>\n",
       "      <td>4.5</td>\n",
       "      <td>215644</td>\n",
       "      <td>25M</td>\n",
       "      <td>50,000,000+</td>\n",
       "      <td>Free</td>\n",
       "      <td>0</td>\n",
       "      <td>Teen</td>\n",
       "      <td>Art &amp; Design</td>\n",
       "      <td>June 8, 2018</td>\n",
       "      <td>Varies with device</td>\n",
       "      <td>4.2 and up</td>\n",
       "    </tr>\n",
       "    <tr>\n",
       "      <th>4</th>\n",
       "      <td>Pixel Draw - Number Art Coloring Book</td>\n",
       "      <td>ART_AND_DESIGN</td>\n",
       "      <td>4.3</td>\n",
       "      <td>967</td>\n",
       "      <td>2.8M</td>\n",
       "      <td>100,000+</td>\n",
       "      <td>Free</td>\n",
       "      <td>0</td>\n",
       "      <td>Everyone</td>\n",
       "      <td>Art &amp; Design;Creativity</td>\n",
       "      <td>June 20, 2018</td>\n",
       "      <td>1.1</td>\n",
       "      <td>4.4 and up</td>\n",
       "    </tr>\n",
       "  </tbody>\n",
       "</table>\n",
       "</div>"
      ],
      "text/plain": [
       "                                                 App        Category  Rating  \\\n",
       "0     Photo Editor & Candy Camera & Grid & ScrapBook  ART_AND_DESIGN     4.1   \n",
       "1                                Coloring book moana  ART_AND_DESIGN     3.9   \n",
       "2  U Launcher Lite – FREE Live Cool Themes, Hide ...  ART_AND_DESIGN     4.7   \n",
       "3                              Sketch - Draw & Paint  ART_AND_DESIGN     4.5   \n",
       "4              Pixel Draw - Number Art Coloring Book  ART_AND_DESIGN     4.3   \n",
       "\n",
       "  Reviews  Size     Installs  Type Price Content Rating  \\\n",
       "0     159   19M      10,000+  Free     0       Everyone   \n",
       "1     967   14M     500,000+  Free     0       Everyone   \n",
       "2   87510  8.7M   5,000,000+  Free     0       Everyone   \n",
       "3  215644   25M  50,000,000+  Free     0           Teen   \n",
       "4     967  2.8M     100,000+  Free     0       Everyone   \n",
       "\n",
       "                      Genres      Last Updated         Current Ver  \\\n",
       "0               Art & Design   January 7, 2018               1.0.0   \n",
       "1  Art & Design;Pretend Play  January 15, 2018               2.0.0   \n",
       "2               Art & Design    August 1, 2018               1.2.4   \n",
       "3               Art & Design      June 8, 2018  Varies with device   \n",
       "4    Art & Design;Creativity     June 20, 2018                 1.1   \n",
       "\n",
       "    Android Ver  \n",
       "0  4.0.3 and up  \n",
       "1  4.0.3 and up  \n",
       "2  4.0.3 and up  \n",
       "3    4.2 and up  \n",
       "4    4.4 and up  "
      ]
     },
     "execution_count": 5,
     "metadata": {},
     "output_type": "execute_result"
    }
   ],
   "source": [
    "app_data.head()"
   ]
  },
  {
   "cell_type": "code",
   "execution_count": 6,
   "id": "9ccf8026",
   "metadata": {},
   "outputs": [
    {
     "data": {
      "text/html": [
       "<div>\n",
       "<style scoped>\n",
       "    .dataframe tbody tr th:only-of-type {\n",
       "        vertical-align: middle;\n",
       "    }\n",
       "\n",
       "    .dataframe tbody tr th {\n",
       "        vertical-align: top;\n",
       "    }\n",
       "\n",
       "    .dataframe thead th {\n",
       "        text-align: right;\n",
       "    }\n",
       "</style>\n",
       "<table border=\"1\" class=\"dataframe\">\n",
       "  <thead>\n",
       "    <tr style=\"text-align: right;\">\n",
       "      <th></th>\n",
       "      <th>App</th>\n",
       "      <th>Translated_Review</th>\n",
       "      <th>Sentiment</th>\n",
       "      <th>Sentiment_Polarity</th>\n",
       "      <th>Sentiment_Subjectivity</th>\n",
       "    </tr>\n",
       "  </thead>\n",
       "  <tbody>\n",
       "    <tr>\n",
       "      <th>0</th>\n",
       "      <td>10 Best Foods for You</td>\n",
       "      <td>I like eat delicious food. That's I'm cooking ...</td>\n",
       "      <td>Positive</td>\n",
       "      <td>1.00</td>\n",
       "      <td>0.533333</td>\n",
       "    </tr>\n",
       "    <tr>\n",
       "      <th>1</th>\n",
       "      <td>10 Best Foods for You</td>\n",
       "      <td>This help eating healthy exercise regular basis</td>\n",
       "      <td>Positive</td>\n",
       "      <td>0.25</td>\n",
       "      <td>0.288462</td>\n",
       "    </tr>\n",
       "    <tr>\n",
       "      <th>2</th>\n",
       "      <td>10 Best Foods for You</td>\n",
       "      <td>NaN</td>\n",
       "      <td>NaN</td>\n",
       "      <td>NaN</td>\n",
       "      <td>NaN</td>\n",
       "    </tr>\n",
       "    <tr>\n",
       "      <th>3</th>\n",
       "      <td>10 Best Foods for You</td>\n",
       "      <td>Works great especially going grocery store</td>\n",
       "      <td>Positive</td>\n",
       "      <td>0.40</td>\n",
       "      <td>0.875000</td>\n",
       "    </tr>\n",
       "    <tr>\n",
       "      <th>4</th>\n",
       "      <td>10 Best Foods for You</td>\n",
       "      <td>Best idea us</td>\n",
       "      <td>Positive</td>\n",
       "      <td>1.00</td>\n",
       "      <td>0.300000</td>\n",
       "    </tr>\n",
       "  </tbody>\n",
       "</table>\n",
       "</div>"
      ],
      "text/plain": [
       "                     App                                  Translated_Review  \\\n",
       "0  10 Best Foods for You  I like eat delicious food. That's I'm cooking ...   \n",
       "1  10 Best Foods for You    This help eating healthy exercise regular basis   \n",
       "2  10 Best Foods for You                                                NaN   \n",
       "3  10 Best Foods for You         Works great especially going grocery store   \n",
       "4  10 Best Foods for You                                       Best idea us   \n",
       "\n",
       "  Sentiment  Sentiment_Polarity  Sentiment_Subjectivity  \n",
       "0  Positive                1.00                0.533333  \n",
       "1  Positive                0.25                0.288462  \n",
       "2       NaN                 NaN                     NaN  \n",
       "3  Positive                0.40                0.875000  \n",
       "4  Positive                1.00                0.300000  "
      ]
     },
     "execution_count": 6,
     "metadata": {},
     "output_type": "execute_result"
    }
   ],
   "source": [
    "review_data.head()"
   ]
  },
  {
   "cell_type": "code",
   "execution_count": 7,
   "id": "017a161b",
   "metadata": {},
   "outputs": [],
   "source": [
    "merged_data=pd.merge(review_data, app_data[['App', 'Category', 'Rating']], on='App', how='inner')"
   ]
  },
  {
   "cell_type": "code",
   "execution_count": 8,
   "id": "5a76d5fb",
   "metadata": {},
   "outputs": [
    {
     "name": "stderr",
     "output_type": "stream",
     "text": [
      "C:\\Users\\MUGUNTHAN.A.R\\AppData\\Local\\Temp\\ipykernel_12476\\2981955353.py:3: FutureWarning: A value is trying to be set on a copy of a DataFrame or Series through chained assignment using an inplace method.\n",
      "The behavior will change in pandas 3.0. This inplace method will never work because the intermediate object on which we are setting values always behaves as a copy.\n",
      "\n",
      "For example, when doing 'df[col].method(value, inplace=True)', try using 'df.method({col: value}, inplace=True)' or df[col] = df[col].method(value) instead, to perform the operation inplace on the original object.\n",
      "\n",
      "\n",
      "  app_data[column].fillna(app_data[column].mode()[0],inplace=True)\n"
     ]
    }
   ],
   "source": [
    "app_data = app_data.dropna(subset=['Rating'])\n",
    "for column in app_data.columns :\n",
    "    app_data[column].fillna(app_data[column].mode()[0],inplace=True)\n",
    "app_data.drop_duplicates(inplace=True)\n",
    "app_data=app_data=app_data[app_data['Rating']<=5]\n",
    "review_data.dropna(subset=['Translated_Review'],inplace=True)\n"
   ]
  },
  {
   "cell_type": "code",
   "execution_count": 9,
   "id": "612e9c2c",
   "metadata": {},
   "outputs": [
    {
     "data": {
      "text/plain": [
       "App                object\n",
       "Category           object\n",
       "Rating            float64\n",
       "Reviews            object\n",
       "Size               object\n",
       "Installs           object\n",
       "Type               object\n",
       "Price              object\n",
       "Content Rating     object\n",
       "Genres             object\n",
       "Last Updated       object\n",
       "Current Ver        object\n",
       "Android Ver        object\n",
       "dtype: object"
      ]
     },
     "execution_count": 9,
     "metadata": {},
     "output_type": "execute_result"
    }
   ],
   "source": [
    "app_data.dtypes"
   ]
  },
  {
   "cell_type": "code",
   "execution_count": 10,
   "id": "da2be959",
   "metadata": {},
   "outputs": [
    {
     "data": {
      "text/html": [
       "<div>\n",
       "<style scoped>\n",
       "    .dataframe tbody tr th:only-of-type {\n",
       "        vertical-align: middle;\n",
       "    }\n",
       "\n",
       "    .dataframe tbody tr th {\n",
       "        vertical-align: top;\n",
       "    }\n",
       "\n",
       "    .dataframe thead th {\n",
       "        text-align: right;\n",
       "    }\n",
       "</style>\n",
       "<table border=\"1\" class=\"dataframe\">\n",
       "  <thead>\n",
       "    <tr style=\"text-align: right;\">\n",
       "      <th></th>\n",
       "      <th>App</th>\n",
       "      <th>Category</th>\n",
       "      <th>Rating</th>\n",
       "      <th>Reviews</th>\n",
       "      <th>Size</th>\n",
       "      <th>Installs</th>\n",
       "      <th>Type</th>\n",
       "      <th>Price</th>\n",
       "      <th>Content Rating</th>\n",
       "      <th>Genres</th>\n",
       "      <th>Last Updated</th>\n",
       "      <th>Current Ver</th>\n",
       "      <th>Android Ver</th>\n",
       "    </tr>\n",
       "  </thead>\n",
       "  <tbody>\n",
       "    <tr>\n",
       "      <th>234</th>\n",
       "      <td>TurboScan: scan documents and receipts in PDF</td>\n",
       "      <td>BUSINESS</td>\n",
       "      <td>4.7</td>\n",
       "      <td>11442</td>\n",
       "      <td>6.8M</td>\n",
       "      <td>100,000+</td>\n",
       "      <td>Paid</td>\n",
       "      <td>$4.99</td>\n",
       "      <td>Everyone</td>\n",
       "      <td>Business</td>\n",
       "      <td>March 25, 2018</td>\n",
       "      <td>1.5.2</td>\n",
       "      <td>4.0 and up</td>\n",
       "    </tr>\n",
       "    <tr>\n",
       "      <th>235</th>\n",
       "      <td>Tiny Scanner Pro: PDF Doc Scan</td>\n",
       "      <td>BUSINESS</td>\n",
       "      <td>4.8</td>\n",
       "      <td>10295</td>\n",
       "      <td>39M</td>\n",
       "      <td>100,000+</td>\n",
       "      <td>Paid</td>\n",
       "      <td>$4.99</td>\n",
       "      <td>Everyone</td>\n",
       "      <td>Business</td>\n",
       "      <td>April 11, 2017</td>\n",
       "      <td>3.4.6</td>\n",
       "      <td>3.0 and up</td>\n",
       "    </tr>\n",
       "    <tr>\n",
       "      <th>427</th>\n",
       "      <td>Puffin Browser Pro</td>\n",
       "      <td>COMMUNICATION</td>\n",
       "      <td>4.0</td>\n",
       "      <td>18247</td>\n",
       "      <td>Varies with device</td>\n",
       "      <td>100,000+</td>\n",
       "      <td>Paid</td>\n",
       "      <td>$3.99</td>\n",
       "      <td>Everyone</td>\n",
       "      <td>Communication</td>\n",
       "      <td>July 5, 2018</td>\n",
       "      <td>7.5.3.20547</td>\n",
       "      <td>4.1 and up</td>\n",
       "    </tr>\n",
       "    <tr>\n",
       "      <th>476</th>\n",
       "      <td>Moco+ - Chat, Meet People</td>\n",
       "      <td>DATING</td>\n",
       "      <td>4.2</td>\n",
       "      <td>1545</td>\n",
       "      <td>Varies with device</td>\n",
       "      <td>10,000+</td>\n",
       "      <td>Paid</td>\n",
       "      <td>$3.99</td>\n",
       "      <td>Mature 17+</td>\n",
       "      <td>Dating</td>\n",
       "      <td>June 19, 2018</td>\n",
       "      <td>2.6.139</td>\n",
       "      <td>4.1 and up</td>\n",
       "    </tr>\n",
       "    <tr>\n",
       "      <th>477</th>\n",
       "      <td>Calculator</td>\n",
       "      <td>DATING</td>\n",
       "      <td>2.6</td>\n",
       "      <td>57</td>\n",
       "      <td>6.2M</td>\n",
       "      <td>1,000+</td>\n",
       "      <td>Paid</td>\n",
       "      <td>$6.99</td>\n",
       "      <td>Everyone</td>\n",
       "      <td>Dating</td>\n",
       "      <td>October 25, 2017</td>\n",
       "      <td>1.1.6</td>\n",
       "      <td>4.0 and up</td>\n",
       "    </tr>\n",
       "    <tr>\n",
       "      <th>...</th>\n",
       "      <td>...</td>\n",
       "      <td>...</td>\n",
       "      <td>...</td>\n",
       "      <td>...</td>\n",
       "      <td>...</td>\n",
       "      <td>...</td>\n",
       "      <td>...</td>\n",
       "      <td>...</td>\n",
       "      <td>...</td>\n",
       "      <td>...</td>\n",
       "      <td>...</td>\n",
       "      <td>...</td>\n",
       "      <td>...</td>\n",
       "    </tr>\n",
       "    <tr>\n",
       "      <th>10690</th>\n",
       "      <td>FO Bixby</td>\n",
       "      <td>PERSONALIZATION</td>\n",
       "      <td>5.0</td>\n",
       "      <td>5</td>\n",
       "      <td>861k</td>\n",
       "      <td>100+</td>\n",
       "      <td>Paid</td>\n",
       "      <td>$0.99</td>\n",
       "      <td>Everyone</td>\n",
       "      <td>Personalization</td>\n",
       "      <td>April 25, 2018</td>\n",
       "      <td>0.2</td>\n",
       "      <td>7.0 and up</td>\n",
       "    </tr>\n",
       "    <tr>\n",
       "      <th>10697</th>\n",
       "      <td>Mu.F.O.</td>\n",
       "      <td>GAME</td>\n",
       "      <td>5.0</td>\n",
       "      <td>2</td>\n",
       "      <td>16M</td>\n",
       "      <td>1+</td>\n",
       "      <td>Paid</td>\n",
       "      <td>$0.99</td>\n",
       "      <td>Everyone</td>\n",
       "      <td>Arcade</td>\n",
       "      <td>March 3, 2017</td>\n",
       "      <td>1.0</td>\n",
       "      <td>2.3 and up</td>\n",
       "    </tr>\n",
       "    <tr>\n",
       "      <th>10760</th>\n",
       "      <td>Fast Tract Diet</td>\n",
       "      <td>HEALTH_AND_FITNESS</td>\n",
       "      <td>4.4</td>\n",
       "      <td>35</td>\n",
       "      <td>2.4M</td>\n",
       "      <td>1,000+</td>\n",
       "      <td>Paid</td>\n",
       "      <td>$7.99</td>\n",
       "      <td>Everyone</td>\n",
       "      <td>Health &amp; Fitness</td>\n",
       "      <td>August 8, 2018</td>\n",
       "      <td>1.9.3</td>\n",
       "      <td>4.2 and up</td>\n",
       "    </tr>\n",
       "    <tr>\n",
       "      <th>10782</th>\n",
       "      <td>Trine 2: Complete Story</td>\n",
       "      <td>GAME</td>\n",
       "      <td>3.8</td>\n",
       "      <td>252</td>\n",
       "      <td>11M</td>\n",
       "      <td>10,000+</td>\n",
       "      <td>Paid</td>\n",
       "      <td>$16.99</td>\n",
       "      <td>Teen</td>\n",
       "      <td>Action</td>\n",
       "      <td>February 27, 2015</td>\n",
       "      <td>2.22</td>\n",
       "      <td>5.0 and up</td>\n",
       "    </tr>\n",
       "    <tr>\n",
       "      <th>10785</th>\n",
       "      <td>sugar, sugar</td>\n",
       "      <td>FAMILY</td>\n",
       "      <td>4.2</td>\n",
       "      <td>1405</td>\n",
       "      <td>9.5M</td>\n",
       "      <td>10,000+</td>\n",
       "      <td>Paid</td>\n",
       "      <td>$1.20</td>\n",
       "      <td>Everyone</td>\n",
       "      <td>Puzzle</td>\n",
       "      <td>June 5, 2018</td>\n",
       "      <td>2.7</td>\n",
       "      <td>2.3 and up</td>\n",
       "    </tr>\n",
       "  </tbody>\n",
       "</table>\n",
       "<p>613 rows × 13 columns</p>\n",
       "</div>"
      ],
      "text/plain": [
       "                                                 App            Category  \\\n",
       "234    TurboScan: scan documents and receipts in PDF            BUSINESS   \n",
       "235                   Tiny Scanner Pro: PDF Doc Scan            BUSINESS   \n",
       "427                               Puffin Browser Pro       COMMUNICATION   \n",
       "476                        Moco+ - Chat, Meet People              DATING   \n",
       "477                                       Calculator              DATING   \n",
       "...                                              ...                 ...   \n",
       "10690                                       FO Bixby     PERSONALIZATION   \n",
       "10697                                        Mu.F.O.                GAME   \n",
       "10760                                Fast Tract Diet  HEALTH_AND_FITNESS   \n",
       "10782                        Trine 2: Complete Story                GAME   \n",
       "10785                                   sugar, sugar              FAMILY   \n",
       "\n",
       "       Rating Reviews                Size  Installs  Type   Price  \\\n",
       "234       4.7   11442                6.8M  100,000+  Paid   $4.99   \n",
       "235       4.8   10295                 39M  100,000+  Paid   $4.99   \n",
       "427       4.0   18247  Varies with device  100,000+  Paid   $3.99   \n",
       "476       4.2    1545  Varies with device   10,000+  Paid   $3.99   \n",
       "477       2.6      57                6.2M    1,000+  Paid   $6.99   \n",
       "...       ...     ...                 ...       ...   ...     ...   \n",
       "10690     5.0       5                861k      100+  Paid   $0.99   \n",
       "10697     5.0       2                 16M        1+  Paid   $0.99   \n",
       "10760     4.4      35                2.4M    1,000+  Paid   $7.99   \n",
       "10782     3.8     252                 11M   10,000+  Paid  $16.99   \n",
       "10785     4.2    1405                9.5M   10,000+  Paid   $1.20   \n",
       "\n",
       "      Content Rating            Genres       Last Updated  Current Ver  \\\n",
       "234         Everyone          Business     March 25, 2018        1.5.2   \n",
       "235         Everyone          Business     April 11, 2017        3.4.6   \n",
       "427         Everyone     Communication       July 5, 2018  7.5.3.20547   \n",
       "476       Mature 17+            Dating      June 19, 2018      2.6.139   \n",
       "477         Everyone            Dating   October 25, 2017        1.1.6   \n",
       "...              ...               ...                ...          ...   \n",
       "10690       Everyone   Personalization     April 25, 2018          0.2   \n",
       "10697       Everyone            Arcade      March 3, 2017          1.0   \n",
       "10760       Everyone  Health & Fitness     August 8, 2018        1.9.3   \n",
       "10782           Teen            Action  February 27, 2015         2.22   \n",
       "10785       Everyone            Puzzle       June 5, 2018          2.7   \n",
       "\n",
       "      Android Ver  \n",
       "234    4.0 and up  \n",
       "235    3.0 and up  \n",
       "427    4.1 and up  \n",
       "476    4.1 and up  \n",
       "477    4.0 and up  \n",
       "...           ...  \n",
       "10690  7.0 and up  \n",
       "10697  2.3 and up  \n",
       "10760  4.2 and up  \n",
       "10782  5.0 and up  \n",
       "10785  2.3 and up  \n",
       "\n",
       "[613 rows x 13 columns]"
      ]
     },
     "execution_count": 10,
     "metadata": {},
     "output_type": "execute_result"
    }
   ],
   "source": [
    "paid_apps = app_data[app_data['Type'] == 'Paid']\n",
    "paid_apps"
   ]
  },
  {
   "cell_type": "code",
   "execution_count": 11,
   "id": "351ca416",
   "metadata": {},
   "outputs": [
    {
     "name": "stderr",
     "output_type": "stream",
     "text": [
      "C:\\Users\\MUGUNTHAN.A.R\\AppData\\Local\\Temp\\ipykernel_12476\\878706825.py:1: SettingWithCopyWarning: \n",
      "A value is trying to be set on a copy of a slice from a DataFrame.\n",
      "Try using .loc[row_indexer,col_indexer] = value instead\n",
      "\n",
      "See the caveats in the documentation: https://pandas.pydata.org/pandas-docs/stable/user_guide/indexing.html#returning-a-view-versus-a-copy\n",
      "  paid_apps['Installs']=paid_apps['Installs'].str.replace(',','').str.replace('+','').astype(int)\n",
      "C:\\Users\\MUGUNTHAN.A.R\\AppData\\Local\\Temp\\ipykernel_12476\\878706825.py:2: SettingWithCopyWarning: \n",
      "A value is trying to be set on a copy of a slice from a DataFrame.\n",
      "Try using .loc[row_indexer,col_indexer] = value instead\n",
      "\n",
      "See the caveats in the documentation: https://pandas.pydata.org/pandas-docs/stable/user_guide/indexing.html#returning-a-view-versus-a-copy\n",
      "  paid_apps['Price']=paid_apps['Price'].str.replace('$','').astype(float)\n"
     ]
    }
   ],
   "source": [
    "paid_apps['Installs']=paid_apps['Installs'].str.replace(',','').str.replace('+','').astype(int)\n",
    "paid_apps['Price']=paid_apps['Price'].str.replace('$','').astype(float)"
   ]
  },
  {
   "cell_type": "code",
   "execution_count": 12,
   "id": "63ca4979",
   "metadata": {},
   "outputs": [
    {
     "name": "stderr",
     "output_type": "stream",
     "text": [
      "C:\\Users\\MUGUNTHAN.A.R\\AppData\\Local\\Temp\\ipykernel_12476\\519522875.py:1: SettingWithCopyWarning: \n",
      "A value is trying to be set on a copy of a slice from a DataFrame.\n",
      "Try using .loc[row_indexer,col_indexer] = value instead\n",
      "\n",
      "See the caveats in the documentation: https://pandas.pydata.org/pandas-docs/stable/user_guide/indexing.html#returning-a-view-versus-a-copy\n",
      "  paid_apps['Revenue']=paid_apps['Price']*paid_apps['Installs']\n"
     ]
    }
   ],
   "source": [
    "paid_apps['Revenue']=paid_apps['Price']*paid_apps['Installs']"
   ]
  },
  {
   "cell_type": "code",
   "execution_count": 13,
   "id": "ab80f1fc",
   "metadata": {},
   "outputs": [
    {
     "data": {
      "text/plain": [
       "234      499000.00\n",
       "235      499000.00\n",
       "427      399000.00\n",
       "476       39900.00\n",
       "477        6990.00\n",
       "           ...    \n",
       "10690        99.00\n",
       "10697         0.99\n",
       "10760      7990.00\n",
       "10782    169900.00\n",
       "10785     12000.00\n",
       "Name: Revenue, Length: 613, dtype: float64"
      ]
     },
     "execution_count": 13,
     "metadata": {},
     "output_type": "execute_result"
    }
   ],
   "source": [
    "paid_apps['Revenue']"
   ]
  },
  {
   "cell_type": "code",
   "execution_count": 14,
   "id": "947d0319",
   "metadata": {},
   "outputs": [],
   "source": [
    "def convert_size(size):\n",
    "    if pd.isnull(size) or 'Varies' in size:\n",
    "        return None\n",
    "    elif 'M' in size:\n",
    "        return float(size.replace('M', ''))\n",
    "    elif 'k' in size:\n",
    "        return float(size.replace('k', '')) / 1024\n",
    "    else:\n",
    "        return None"
   ]
  },
  {
   "cell_type": "code",
   "execution_count": 15,
   "id": "b2a66959",
   "metadata": {},
   "outputs": [
    {
     "data": {
      "text/html": [
       "<div>\n",
       "<style scoped>\n",
       "    .dataframe tbody tr th:only-of-type {\n",
       "        vertical-align: middle;\n",
       "    }\n",
       "\n",
       "    .dataframe tbody tr th {\n",
       "        vertical-align: top;\n",
       "    }\n",
       "\n",
       "    .dataframe thead th {\n",
       "        text-align: right;\n",
       "    }\n",
       "</style>\n",
       "<table border=\"1\" class=\"dataframe\">\n",
       "  <thead>\n",
       "    <tr style=\"text-align: right;\">\n",
       "      <th></th>\n",
       "      <th>App</th>\n",
       "      <th>Category</th>\n",
       "      <th>Rating</th>\n",
       "      <th>Reviews</th>\n",
       "      <th>Size</th>\n",
       "      <th>Installs</th>\n",
       "      <th>Type</th>\n",
       "      <th>Price</th>\n",
       "      <th>Content Rating</th>\n",
       "      <th>Genres</th>\n",
       "      <th>Last Updated</th>\n",
       "      <th>Current Ver</th>\n",
       "      <th>Android Ver</th>\n",
       "    </tr>\n",
       "  </thead>\n",
       "  <tbody>\n",
       "    <tr>\n",
       "      <th>0</th>\n",
       "      <td>Photo Editor &amp; Candy Camera &amp; Grid &amp; ScrapBook</td>\n",
       "      <td>ART_AND_DESIGN</td>\n",
       "      <td>4.1</td>\n",
       "      <td>159</td>\n",
       "      <td>19M</td>\n",
       "      <td>10,000+</td>\n",
       "      <td>Free</td>\n",
       "      <td>0</td>\n",
       "      <td>Everyone</td>\n",
       "      <td>Art &amp; Design</td>\n",
       "      <td>January 7, 2018</td>\n",
       "      <td>1.0.0</td>\n",
       "      <td>4.0.3 and up</td>\n",
       "    </tr>\n",
       "    <tr>\n",
       "      <th>1</th>\n",
       "      <td>Coloring book moana</td>\n",
       "      <td>ART_AND_DESIGN</td>\n",
       "      <td>3.9</td>\n",
       "      <td>967</td>\n",
       "      <td>14M</td>\n",
       "      <td>500,000+</td>\n",
       "      <td>Free</td>\n",
       "      <td>0</td>\n",
       "      <td>Everyone</td>\n",
       "      <td>Art &amp; Design;Pretend Play</td>\n",
       "      <td>January 15, 2018</td>\n",
       "      <td>2.0.0</td>\n",
       "      <td>4.0.3 and up</td>\n",
       "    </tr>\n",
       "    <tr>\n",
       "      <th>2</th>\n",
       "      <td>U Launcher Lite – FREE Live Cool Themes, Hide ...</td>\n",
       "      <td>ART_AND_DESIGN</td>\n",
       "      <td>4.7</td>\n",
       "      <td>87510</td>\n",
       "      <td>8.7M</td>\n",
       "      <td>5,000,000+</td>\n",
       "      <td>Free</td>\n",
       "      <td>0</td>\n",
       "      <td>Everyone</td>\n",
       "      <td>Art &amp; Design</td>\n",
       "      <td>August 1, 2018</td>\n",
       "      <td>1.2.4</td>\n",
       "      <td>4.0.3 and up</td>\n",
       "    </tr>\n",
       "    <tr>\n",
       "      <th>3</th>\n",
       "      <td>Sketch - Draw &amp; Paint</td>\n",
       "      <td>ART_AND_DESIGN</td>\n",
       "      <td>4.5</td>\n",
       "      <td>215644</td>\n",
       "      <td>25M</td>\n",
       "      <td>50,000,000+</td>\n",
       "      <td>Free</td>\n",
       "      <td>0</td>\n",
       "      <td>Teen</td>\n",
       "      <td>Art &amp; Design</td>\n",
       "      <td>June 8, 2018</td>\n",
       "      <td>Varies with device</td>\n",
       "      <td>4.2 and up</td>\n",
       "    </tr>\n",
       "    <tr>\n",
       "      <th>4</th>\n",
       "      <td>Pixel Draw - Number Art Coloring Book</td>\n",
       "      <td>ART_AND_DESIGN</td>\n",
       "      <td>4.3</td>\n",
       "      <td>967</td>\n",
       "      <td>2.8M</td>\n",
       "      <td>100,000+</td>\n",
       "      <td>Free</td>\n",
       "      <td>0</td>\n",
       "      <td>Everyone</td>\n",
       "      <td>Art &amp; Design;Creativity</td>\n",
       "      <td>June 20, 2018</td>\n",
       "      <td>1.1</td>\n",
       "      <td>4.4 and up</td>\n",
       "    </tr>\n",
       "    <tr>\n",
       "      <th>...</th>\n",
       "      <td>...</td>\n",
       "      <td>...</td>\n",
       "      <td>...</td>\n",
       "      <td>...</td>\n",
       "      <td>...</td>\n",
       "      <td>...</td>\n",
       "      <td>...</td>\n",
       "      <td>...</td>\n",
       "      <td>...</td>\n",
       "      <td>...</td>\n",
       "      <td>...</td>\n",
       "      <td>...</td>\n",
       "      <td>...</td>\n",
       "    </tr>\n",
       "    <tr>\n",
       "      <th>10834</th>\n",
       "      <td>FR Calculator</td>\n",
       "      <td>FAMILY</td>\n",
       "      <td>4.0</td>\n",
       "      <td>7</td>\n",
       "      <td>2.6M</td>\n",
       "      <td>500+</td>\n",
       "      <td>Free</td>\n",
       "      <td>0</td>\n",
       "      <td>Everyone</td>\n",
       "      <td>Education</td>\n",
       "      <td>June 18, 2017</td>\n",
       "      <td>1.0.0</td>\n",
       "      <td>4.1 and up</td>\n",
       "    </tr>\n",
       "    <tr>\n",
       "      <th>10836</th>\n",
       "      <td>Sya9a Maroc - FR</td>\n",
       "      <td>FAMILY</td>\n",
       "      <td>4.5</td>\n",
       "      <td>38</td>\n",
       "      <td>53M</td>\n",
       "      <td>5,000+</td>\n",
       "      <td>Free</td>\n",
       "      <td>0</td>\n",
       "      <td>Everyone</td>\n",
       "      <td>Education</td>\n",
       "      <td>July 25, 2017</td>\n",
       "      <td>1.48</td>\n",
       "      <td>4.1 and up</td>\n",
       "    </tr>\n",
       "    <tr>\n",
       "      <th>10837</th>\n",
       "      <td>Fr. Mike Schmitz Audio Teachings</td>\n",
       "      <td>FAMILY</td>\n",
       "      <td>5.0</td>\n",
       "      <td>4</td>\n",
       "      <td>3.6M</td>\n",
       "      <td>100+</td>\n",
       "      <td>Free</td>\n",
       "      <td>0</td>\n",
       "      <td>Everyone</td>\n",
       "      <td>Education</td>\n",
       "      <td>July 6, 2018</td>\n",
       "      <td>1.0</td>\n",
       "      <td>4.1 and up</td>\n",
       "    </tr>\n",
       "    <tr>\n",
       "      <th>10839</th>\n",
       "      <td>The SCP Foundation DB fr nn5n</td>\n",
       "      <td>BOOKS_AND_REFERENCE</td>\n",
       "      <td>4.5</td>\n",
       "      <td>114</td>\n",
       "      <td>Varies with device</td>\n",
       "      <td>1,000+</td>\n",
       "      <td>Free</td>\n",
       "      <td>0</td>\n",
       "      <td>Mature 17+</td>\n",
       "      <td>Books &amp; Reference</td>\n",
       "      <td>January 19, 2015</td>\n",
       "      <td>Varies with device</td>\n",
       "      <td>Varies with device</td>\n",
       "    </tr>\n",
       "    <tr>\n",
       "      <th>10840</th>\n",
       "      <td>iHoroscope - 2018 Daily Horoscope &amp; Astrology</td>\n",
       "      <td>LIFESTYLE</td>\n",
       "      <td>4.5</td>\n",
       "      <td>398307</td>\n",
       "      <td>19M</td>\n",
       "      <td>10,000,000+</td>\n",
       "      <td>Free</td>\n",
       "      <td>0</td>\n",
       "      <td>Everyone</td>\n",
       "      <td>Lifestyle</td>\n",
       "      <td>July 25, 2018</td>\n",
       "      <td>Varies with device</td>\n",
       "      <td>Varies with device</td>\n",
       "    </tr>\n",
       "  </tbody>\n",
       "</table>\n",
       "<p>8892 rows × 13 columns</p>\n",
       "</div>"
      ],
      "text/plain": [
       "                                                     App             Category  \\\n",
       "0         Photo Editor & Candy Camera & Grid & ScrapBook       ART_AND_DESIGN   \n",
       "1                                    Coloring book moana       ART_AND_DESIGN   \n",
       "2      U Launcher Lite – FREE Live Cool Themes, Hide ...       ART_AND_DESIGN   \n",
       "3                                  Sketch - Draw & Paint       ART_AND_DESIGN   \n",
       "4                  Pixel Draw - Number Art Coloring Book       ART_AND_DESIGN   \n",
       "...                                                  ...                  ...   \n",
       "10834                                      FR Calculator               FAMILY   \n",
       "10836                                   Sya9a Maroc - FR               FAMILY   \n",
       "10837                   Fr. Mike Schmitz Audio Teachings               FAMILY   \n",
       "10839                      The SCP Foundation DB fr nn5n  BOOKS_AND_REFERENCE   \n",
       "10840      iHoroscope - 2018 Daily Horoscope & Astrology            LIFESTYLE   \n",
       "\n",
       "       Rating Reviews                Size     Installs  Type Price  \\\n",
       "0         4.1     159                 19M      10,000+  Free     0   \n",
       "1         3.9     967                 14M     500,000+  Free     0   \n",
       "2         4.7   87510                8.7M   5,000,000+  Free     0   \n",
       "3         4.5  215644                 25M  50,000,000+  Free     0   \n",
       "4         4.3     967                2.8M     100,000+  Free     0   \n",
       "...       ...     ...                 ...          ...   ...   ...   \n",
       "10834     4.0       7                2.6M         500+  Free     0   \n",
       "10836     4.5      38                 53M       5,000+  Free     0   \n",
       "10837     5.0       4                3.6M         100+  Free     0   \n",
       "10839     4.5     114  Varies with device       1,000+  Free     0   \n",
       "10840     4.5  398307                 19M  10,000,000+  Free     0   \n",
       "\n",
       "      Content Rating                     Genres      Last Updated  \\\n",
       "0           Everyone               Art & Design   January 7, 2018   \n",
       "1           Everyone  Art & Design;Pretend Play  January 15, 2018   \n",
       "2           Everyone               Art & Design    August 1, 2018   \n",
       "3               Teen               Art & Design      June 8, 2018   \n",
       "4           Everyone    Art & Design;Creativity     June 20, 2018   \n",
       "...              ...                        ...               ...   \n",
       "10834       Everyone                  Education     June 18, 2017   \n",
       "10836       Everyone                  Education     July 25, 2017   \n",
       "10837       Everyone                  Education      July 6, 2018   \n",
       "10839     Mature 17+          Books & Reference  January 19, 2015   \n",
       "10840       Everyone                  Lifestyle     July 25, 2018   \n",
       "\n",
       "              Current Ver         Android Ver  \n",
       "0                   1.0.0        4.0.3 and up  \n",
       "1                   2.0.0        4.0.3 and up  \n",
       "2                   1.2.4        4.0.3 and up  \n",
       "3      Varies with device          4.2 and up  \n",
       "4                     1.1          4.4 and up  \n",
       "...                   ...                 ...  \n",
       "10834               1.0.0          4.1 and up  \n",
       "10836                1.48          4.1 and up  \n",
       "10837                 1.0          4.1 and up  \n",
       "10839  Varies with device  Varies with device  \n",
       "10840  Varies with device  Varies with device  \n",
       "\n",
       "[8892 rows x 13 columns]"
      ]
     },
     "execution_count": 15,
     "metadata": {},
     "output_type": "execute_result"
    }
   ],
   "source": [
    "app_data"
   ]
  },
  {
   "cell_type": "code",
   "execution_count": 16,
   "id": "fd459862",
   "metadata": {},
   "outputs": [],
   "source": [
    "app_data['Last Updated'] = pd.to_datetime(app_data['Last Updated'], errors='coerce')\n",
    "app_data['Updated_Month'] = app_data['Last Updated'].dt.month"
   ]
  },
  {
   "cell_type": "code",
   "execution_count": 17,
   "id": "69300388",
   "metadata": {},
   "outputs": [],
   "source": [
    "html_files_path=\"D:/\"\n",
    "if not os.path.exists(html_files_path):\n",
    "    os.makedirs(html_files_path)\n"
   ]
  },
  {
   "cell_type": "code",
   "execution_count": 18,
   "id": "ea6bec60",
   "metadata": {},
   "outputs": [],
   "source": [
    "plot_containers=\"\""
   ]
  },
  {
   "cell_type": "code",
   "execution_count": 19,
   "id": "a4d34174",
   "metadata": {},
   "outputs": [],
   "source": [
    "# Save each Plotly figure to an HTML file\n",
    "def save_plot_as_html(fig, filename, insight):\n",
    "    global plot_containers\n",
    "    filepath = os.path.join(html_files_path, filename)\n",
    "    html_content = pio.to_html(fig, full_html=False, include_plotlyjs='inline')\n",
    "    # Append the plot and its insight to plot_containers\n",
    "    plot_containers += f\"\"\"\n",
    "    <div class=\"plot-container\" id=\"{filename}\" onclick=\"openPlot('{filename}')\">\n",
    "        <div class=\"plot\">{html_content}</div>\n",
    "        <div class=\"insights\">{insight}</div>\n",
    "    </div>\n",
    "    \"\"\"\n",
    "    fig.write_html(filepath, full_html=False, include_plotlyjs='inline')"
   ]
  },
  {
   "cell_type": "code",
   "execution_count": 20,
   "id": "b01a3da3",
   "metadata": {},
   "outputs": [],
   "source": [
    "plot_width=400\n",
    "plot_height=300\n",
    "plot_bg_color='black'\n",
    "text_color='white'\n",
    "title_font={'size':16}\n",
    "axis_font={'size':12}"
   ]
  },
  {
   "cell_type": "code",
   "execution_count": 21,
   "id": "24e0e6eb",
   "metadata": {},
   "outputs": [
    {
     "name": "stderr",
     "output_type": "stream",
     "text": [
      "c:\\Users\\MUGUNTHAN.A.R\\AppData\\Local\\Programs\\Python\\Python312\\Lib\\site-packages\\statsmodels\\regression\\linear_model.py:1783: RuntimeWarning: divide by zero encountered in scalar divide\n",
      "  return 1 - self.ssr/self.centered_tss\n"
     ]
    }
   ],
   "source": [
    "#Figure 9\n",
    "fig9=px.scatter(\n",
    "    paid_apps,\n",
    "    x='Revenue',\n",
    "    y='Installs',\n",
    "    color='Category',\n",
    "    trendline='ols',\n",
    "    title='Revenue from Paid Apps',\n",
    "    color_discrete_sequence=px.colors.qualitative.Vivid,\n",
    "    width=400,\n",
    "    height=300\n",
    ")\n",
    "fig9.update_layout(\n",
    "    plot_bgcolor='black',\n",
    "    paper_bgcolor='black',\n",
    "    font_color='white',\n",
    "    title_font={'size':16},\n",
    "    xaxis=dict(title_font={'size':12}),\n",
    "    yaxis=dict(title_font={'size':12}),\n",
    "    margin=dict(l=10,r=10,t=30,b=10)\n",
    ")\n",
    "#fig1.update_traces(marker=dict(pattern=dict(line=dict(color='white',width=1))))\n",
    "save_plot_as_html(fig9,\"ScatterPlot.html\",\"The Scatter Plot shows a correlation between the Revenue from Paid Apps\")"
   ]
  },
  {
   "cell_type": "code",
   "execution_count": 22,
   "id": "abf714a1",
   "metadata": {},
   "outputs": [],
   "source": [
    "#Sentiment Distribution\n",
    "def rating_group(rating):\n",
    "    if rating >= 4:\n",
    "        return 'Positive'\n",
    "    elif rating >=3:\n",
    "        return 'Neutral'\n",
    "    elif rating >=2:\n",
    "        return 'Negative'\n",
    "app_data['Rating_Group']=app_data['Rating'].apply(rating_group)"
   ]
  },
  {
   "cell_type": "code",
   "execution_count": 23,
   "id": "5d8afb95",
   "metadata": {},
   "outputs": [],
   "source": [
    "app_data.columns\n",
    "sia = SentimentIntensityAnalyzer()"
   ]
  },
  {
   "cell_type": "code",
   "execution_count": 24,
   "id": "98420e57",
   "metadata": {},
   "outputs": [],
   "source": [
    "review_data['Sentiment_Score']=review_data['Translated_Review'].apply(lambda x: sia.polarity_scores(str(x))['compound'])"
   ]
  },
  {
   "cell_type": "code",
   "execution_count": 25,
   "id": "08ac0f90",
   "metadata": {},
   "outputs": [],
   "source": [
    "#Figure 4\n",
    "sentiment_counts=review_data['Sentiment_Score'].value_counts(1000)\n",
    "fig4=px.bar(\n",
    "    x=sentiment_counts.index,\n",
    "    y=sentiment_counts.values,\n",
    "    labels={'x':'Sentiment Score','y':'Count'},\n",
    "    title='Sentiment Distribution',\n",
    "    barmode='stack',\n",
    "    color=sentiment_counts.index,\n",
    "    color_discrete_sequence=px.colors.sequential.RdBu,\n",
    "    width=400,\n",
    "    height=300\n",
    ")\n",
    "fig4.update_layout(\n",
    "    plot_bgcolor='black',\n",
    "    paper_bgcolor='black',\n",
    "    font_color='white',\n",
    "    title_font={'size':16},\n",
    "    xaxis=dict(title_font={'size':12}),\n",
    "    yaxis=dict(title_font={'size':12}),\n",
    "    margin=dict(l=10,r=10,t=30,b=10)\n",
    ")\n",
    "#fig1.update_traces(marker=dict(pattern=dict(line=dict(color='white',width=1))))\n",
    "save_plot_as_html(fig4,\"Sentiment Graph 4.html\",\"Sentiments in reviews show a mix of positive and negative feedback, with a slight lean towards positive sentiments\")"
   ]
  },
  {
   "cell_type": "code",
   "execution_count": 26,
   "id": "4112d750",
   "metadata": {},
   "outputs": [],
   "source": [
    "filtered_data = merged_data[\n",
    "    (merged_data['Category'] == 'HEALTH_AND_FITNESS') &\n",
    "    (merged_data['Rating'] == 5.0) &\n",
    "    (merged_data['Translated_Review'].notnull())\n",
    "]"
   ]
  },
  {
   "cell_type": "code",
   "execution_count": 27,
   "id": "ddb56f2d",
   "metadata": {},
   "outputs": [],
   "source": [
    "review_text = \" \".join(filtered_data['Translated_Review'].astype(str).str.lower())"
   ]
  },
  {
   "cell_type": "code",
   "execution_count": 28,
   "id": "bb0347eb",
   "metadata": {},
   "outputs": [],
   "source": [
    "app_names = set(app_data[app_data['Category'] == 'HEALTH_AND_FITNESS']['App'].str.lower())"
   ]
  },
  {
   "cell_type": "code",
   "execution_count": 29,
   "id": "47f1624a",
   "metadata": {},
   "outputs": [],
   "source": [
    "def remove_app_names(text, names):\n",
    "    for name in names:\n",
    "        name_clean = re.sub(r'[^a-zA-Z\\s]', '', name)  # Remove special characters\n",
    "        text = re.sub(r'\\b' + re.escape(name_clean) + r'\\b', '', text, flags=re.IGNORECASE)\n",
    "    return text"
   ]
  },
  {
   "cell_type": "code",
   "execution_count": 30,
   "id": "958be745",
   "metadata": {},
   "outputs": [],
   "source": [
    "cleaned_text = remove_app_names(review_text, app_names)"
   ]
  },
  {
   "cell_type": "code",
   "execution_count": 31,
   "id": "ee0c848a",
   "metadata": {},
   "outputs": [],
   "source": [
    "stopwords = set([\n",
    "    'app', 'apps', 'use', 'used', 'using', 'get', 'got', 'one', 'really', 'great', 'awesome', 'nice',\n",
    "    'good', 'like', 'helpful', 'help', 'easy', 'best', 'love', 'amazing', 'excellent'\n",
    "])"
   ]
  },
  {
   "cell_type": "code",
   "execution_count": 32,
   "id": "7010702a",
   "metadata": {},
   "outputs": [],
   "source": [
    "words = re.findall(r'\\b[a-z]{3,}\\b', cleaned_text)\n",
    "filtered_words = [word for word in words if word not in stopwords]\n",
    "word_counts = Counter(filtered_words).most_common(100)"
   ]
  },
  {
   "cell_type": "code",
   "execution_count": 33,
   "id": "3ba75611",
   "metadata": {},
   "outputs": [],
   "source": [
    "wordcloud_data = pd.DataFrame(word_counts, columns=['Word', 'Frequency'])\n",
    "wordcloud_data['FontSize'] = wordcloud_data['Frequency'] * 3\n",
    "wordcloud_data['X'] = pd.Series(range(len(wordcloud_data))) % 10\n",
    "wordcloud_data['Y'] = pd.Series(range(len(wordcloud_data))) // 10\n"
   ]
  },
  {
   "cell_type": "code",
   "execution_count": 34,
   "id": "fced1cbd",
   "metadata": {},
   "outputs": [],
   "source": [
    "fig3 = px.scatter(\n",
    "    wordcloud_data,\n",
    "    x='X',\n",
    "    y='Y',\n",
    "    text='Word',\n",
    "    size='FontSize',\n",
    "    color='Frequency',\n",
    "    title=\"Word Cloud (Plotly) from 5-Star Health & Fitness Reviews\",\n",
    ")\n",
    "\n",
    "fig3.update_traces(\n",
    "    mode='text',\n",
    "    textfont=dict(size=wordcloud_data['FontSize'], family='Arial'),\n",
    "    textposition='top center'\n",
    ")\n",
    "\n",
    "fig3.update_layout(\n",
    "    plot_bgcolor='black',\n",
    "    paper_bgcolor='black',\n",
    "    font_color='white',\n",
    "    title_font={'size':16},\n",
    "    xaxis=dict(visible=False),\n",
    "    yaxis=dict(visible=False),\n",
    "    template='plotly_white',\n",
    "    showlegend=False\n",
    ")\n",
    "save_plot_as_html(fig3,\"Wordcolud.html\",\"\")\n"
   ]
  },
  {
   "cell_type": "code",
   "execution_count": 35,
   "id": "361f9e48",
   "metadata": {},
   "outputs": [],
   "source": [
    "app_data['Size'] = app_data['Size'].apply(convert_size)"
   ]
  },
  {
   "cell_type": "code",
   "execution_count": 36,
   "id": "fb6bfa6a",
   "metadata": {},
   "outputs": [],
   "source": [
    "filtered_df = app_data[\n",
    "    (app_data['Rating'] >= 4.0) &\n",
    "    (app_data['Size'] >= 10) &\n",
    "    (app_data['Updated_Month'] == 1)\n",
    "]"
   ]
  },
  {
   "cell_type": "code",
   "execution_count": 37,
   "id": "d992c61c",
   "metadata": {},
   "outputs": [],
   "source": [
    "grouped = filtered_df.groupby('Category').agg({\n",
    "    'Installs': 'sum',\n",
    "    'Rating': 'mean',\n",
    "    'Reviews': lambda x: pd.to_numeric(x, errors='coerce').sum()\n",
    "}).reset_index()"
   ]
  },
  {
   "cell_type": "code",
   "execution_count": 38,
   "id": "551e853f",
   "metadata": {},
   "outputs": [],
   "source": [
    "top10 = grouped.sort_values(by='Installs', ascending=False).head(10)\n"
   ]
  },
  {
   "cell_type": "code",
   "execution_count": 39,
   "id": "7591f185",
   "metadata": {},
   "outputs": [],
   "source": [
    "india_tz = pytz.timezone('Asia/Kolkata')\n",
    "current_hour_ist = datetime.now(india_tz).hour"
   ]
  },
  {
   "cell_type": "code",
   "execution_count": 40,
   "id": "6e036d50",
   "metadata": {},
   "outputs": [
    {
     "name": "stdout",
     "output_type": "stream",
     "text": [
      "⏰ The graph is only displayed between 3 PM and 5 PM IST.\n"
     ]
    }
   ],
   "source": [
    "if 15 <= current_hour_ist < 17:\n",
    "    # --- Plot using Plotly ---\n",
    "    fig4 = go.Figure()\n",
    "\n",
    "    # Bar for average rating\n",
    "    fig4.add_trace(go.Bar(\n",
    "        x=top10['Category'],\n",
    "        y=top10['Rating'],\n",
    "        name='Average Rating',\n",
    "        marker_color='skyblue'\n",
    "    ))\n",
    "\n",
    "    # Bar for total review count\n",
    "    fig4.add_trace(go.Bar(\n",
    "        x=top10['Category'],\n",
    "        y=top10['Reviews'],\n",
    "        name='Total Reviews',\n",
    "        marker_color='salmon'\n",
    "    ))\n",
    "\n",
    "    # Layout\n",
    "    fig4.update_layout(\n",
    "        barmode='group',\n",
    "        title='Average Rating vs Total Reviews (Top 10 Categories by Installs)',\n",
    "        xaxis_title='App Category',\n",
    "        yaxis_title='Value',\n",
    "        template='plotly_white',\n",
    "        plot_bgcolor='black',\n",
    "        paper_bgcolor='black',\n",
    "        font_color='white',\n",
    "        title_font={'size':16},\n",
    "        xaxis=dict(title_font={'size':12}),\n",
    "        yaxis=dict(title_font={'size':12}),\n",
    "        margin=dict(l=10,r=10,t=30,b=10))\n",
    "\n",
    "    save_plot_as_html(fig4,\"GroupedBarChart\",\"\")\n",
    "else:\n",
    "    print(\"⏰ The graph is only displayed between 3 PM and 5 PM IST.\")\n"
   ]
  },
  {
   "cell_type": "code",
   "execution_count": 52,
   "id": "8b213c24",
   "metadata": {},
   "outputs": [],
   "source": [
    "app_data['Installs'] = app_data['Installs'].str.replace('[+,]', '', regex=True).astype(float)"
   ]
  },
  {
   "cell_type": "code",
   "execution_count": 53,
   "id": "e7f821cc",
   "metadata": {},
   "outputs": [],
   "source": [
    "df = app_data[~app_data['Category'].str.startswith(('A', 'C', 'G', 'S'))]"
   ]
  },
  {
   "cell_type": "code",
   "execution_count": 54,
   "id": "1b590885",
   "metadata": {},
   "outputs": [],
   "source": [
    "category_installs = df.groupby('Category')['Installs'].sum().reset_index()"
   ]
  },
  {
   "cell_type": "code",
   "execution_count": 55,
   "id": "5dce913c",
   "metadata": {},
   "outputs": [],
   "source": [
    "top5_categories = category_installs.sort_values(by='Installs', ascending=False).head(5)['Category']\n",
    "df_top5 = df[df['Category'].isin(top5_categories)]"
   ]
  },
  {
   "cell_type": "code",
   "execution_count": null,
   "id": "740d5e2a",
   "metadata": {},
   "outputs": [
    {
     "name": "stderr",
     "output_type": "stream",
     "text": [
      "C:\\Users\\MUGUNTHAN.A.R\\AppData\\Local\\Temp\\ipykernel_12476\\316411455.py:3: SettingWithCopyWarning:\n",
      "\n",
      "\n",
      "A value is trying to be set on a copy of a slice from a DataFrame.\n",
      "Try using .loc[row_indexer,col_indexer] = value instead\n",
      "\n",
      "See the caveats in the documentation: https://pandas.pydata.org/pandas-docs/stable/user_guide/indexing.html#returning-a-view-versus-a-copy\n",
      "\n"
     ]
    }
   ],
   "source": [
    "np.random.seed(42)\n",
    "sample_countries = ['US', 'IN', 'BR', 'RU', 'DE', 'GB', 'CA', 'FR', 'JP', 'AU']\n",
    "df_top5['Country'] = np.random.choice(sample_countries, size=len(df_top5))"
   ]
  },
  {
   "cell_type": "code",
   "execution_count": null,
   "id": "9bed1bcf",
   "metadata": {},
   "outputs": [],
   "source": [
    "grouped = df_top5.groupby(['Country', 'Category'])['Installs'].sum().reset_index()"
   ]
  },
  {
   "cell_type": "code",
   "execution_count": 58,
   "id": "59a537b0",
   "metadata": {},
   "outputs": [],
   "source": [
    "highlighted = grouped[grouped['Installs'] > 1_000_000]"
   ]
  },
  {
   "cell_type": "code",
   "execution_count": null,
   "id": "39466276",
   "metadata": {},
   "outputs": [],
   "source": [
    "india_tz = pytz.timezone('Asia/Kolkata')\n",
    "current_hour_ist = datetime.now(india_tz).hour"
   ]
  },
  {
   "cell_type": "code",
   "execution_count": 71,
   "id": "9b32363a",
   "metadata": {},
   "outputs": [],
   "source": [
    "if 18 <= current_hour_ist < 20:\n",
    "    # Create Choropleth Map\n",
    "    fig = px.choropleth(\n",
    "        highlighted,\n",
    "        color='Installs',\n",
    "        hover_name='Category',\n",
    "        locations='Country',\n",
    "        locationmode='ISO-3',\n",
    "        color_continuous_scale='RdBu',\n",
    "        title='Global Installs by Category (Only >1 Million, Top 5 Categories)'\n",
    "    )\n",
    "\n",
    "    fig.update_layout(\n",
    "    plot_bgcolor='black',\n",
    "    paper_bgcolor='black',\n",
    "    font_color='white',\n",
    "    title_font={'size':16},\n",
    "    xaxis=dict(title_font={'size':12}),\n",
    "    yaxis=dict(title_font={'size':12}),\n",
    "    )\n",
    "    save_plot_as_html(fig,\"Choropleth Graph.html\",\"\")\n",
    "\n",
    "else:\n",
    "    print(\"⏰ Choropleth map only available between 6 PM and 8 PM IST.\")"
   ]
  },
  {
   "cell_type": "code",
   "execution_count": 61,
   "id": "ff7d29a6",
   "metadata": {},
   "outputs": [],
   "source": [
    "app_data['Size'] = app_data['Size'].replace('M', '', regex=False).replace('k', '', regex=False)\n",
    "app_data['Size'] = pd.to_numeric(app_data['Size'], errors='coerce')"
   ]
  },
  {
   "cell_type": "code",
   "execution_count": 62,
   "id": "b81b1f85",
   "metadata": {},
   "outputs": [],
   "source": [
    "app_data['Android Ver'] = pd.to_numeric(app_data['Android Ver'].str.extract(r'(\\d+\\.\\d+)')[0], errors='coerce')"
   ]
  },
  {
   "cell_type": "code",
   "execution_count": null,
   "id": "1dadd6cf",
   "metadata": {},
   "outputs": [],
   "source": [
    "app_data['App_Length'] = app_data['App'].str.len()\n"
   ]
  },
  {
   "cell_type": "code",
   "execution_count": null,
   "id": "7461c8fc",
   "metadata": {},
   "outputs": [],
   "source": [
    "filter_data = app_data[\n",
    "    (app_data['Installs'] >= 10_000) &\n",
    "    ((app_data['Type'] == 'Free') | (paid_apps['Revenue'] >= 10_000)) &\n",
    "    (app_data['Android Ver'] > 4.0) &\n",
    "    (app_data['Size'] >= 15) &\n",
    "    (app_data['Content Rating'] == 'Everyone') &\n",
    "    (app_data['App_Length'] <= 30)\n",
    "]"
   ]
  },
  {
   "cell_type": "code",
   "execution_count": null,
   "id": "229781b5",
   "metadata": {},
   "outputs": [],
   "source": [
    "top3_categories = filter_data.groupby('Category')['Installs'].sum().sort_values(ascending=False).head(3).index\n",
    "df_top3['Revenue'] = df_top3['Price'] * df_top3['Installs']\n",
    "df_top3 = filter_data[filter_data['Category'].isin(top3_categories)]"
   ]
  },
  {
   "cell_type": "code",
   "execution_count": null,
   "id": "ca1434fb",
   "metadata": {},
   "outputs": [],
   "source": [
    "grouped = df_top3.groupby(['Category', 'Type']).agg({\n",
    "    'Installs': 'mean',\n",
    "    'Revenue': 'mean'\n",
    "}).reset_index()\n"
   ]
  },
  {
   "cell_type": "code",
   "execution_count": null,
   "id": "9c3fac3d",
   "metadata": {},
   "outputs": [],
   "source": [
    "ist = pytz.timezone('Asia/Kolkata')\n",
    "current_hour = datetime.now(ist).hour"
   ]
  },
  {
   "cell_type": "code",
   "execution_count": null,
   "id": "d7bd3413",
   "metadata": {},
   "outputs": [
    {
     "name": "stdout",
     "output_type": "stream",
     "text": [
      "⏰ This chart is only visible between 1 PM and 2 PM IST.\n"
     ]
    }
   ],
   "source": [
    "if current_hour == 13:  # Between 1PM and 2PM IST\n",
    "    # Dual-axis plot\n",
    "    fig = go.Figure()\n",
    "\n",
    "    fig.add_trace(go.Bar(\n",
    "        x=grouped['Category'] + \" (\" + grouped['Type'] + \")\",\n",
    "        y=grouped['Installs'],\n",
    "        name='Average Installs',\n",
    "        yaxis='y1',\n",
    "        marker_color='royalblue'\n",
    "    ))\n",
    "\n",
    "    fig.add_trace(go.Scatter(\n",
    "        x=grouped['Category'] + \" (\" + grouped['Type'] + \")\",\n",
    "        y=grouped['Revenue'],\n",
    "        name='Average Revenue',\n",
    "        yaxis='y2',\n",
    "        mode='lines+markers',\n",
    "        marker_color='firebrick'\n",
    "    ))\n",
    "\n",
    "    fig.update_layout(\n",
    "        title=\"Average Installs vs Revenue for Free vs Paid Apps (Top 3 Categories)\",\n",
    "        plot_bgcolor='black',\n",
    "        paper_bgcolor='black',\n",
    "        font_color='white',\n",
    "        title_font={'size':16},\n",
    "        xaxis_title=\"App Category (Type)\",\n",
    "        yaxis=dict(\n",
    "            title='Average Installs',\n",
    "            titlefont=dict(color='royalblue'),\n",
    "            tickfont=dict(color='royalblue')\n",
    "        ),\n",
    "        yaxis2=dict(\n",
    "            title='Average Revenue ($)',\n",
    "            titlefont=dict(color='firebrick'),\n",
    "            tickfont=dict(color='firebrick'),\n",
    "            overlaying='y',\n",
    "            side='right'\n",
    "        ),\n",
    "        template='plotly_white'\n",
    "    )\n",
    "    save_plot_as_html(fig,\"Dualaxis.html\",\"This graph shows the avearge installs vs free and paid apps\")\n",
    "else:\n",
    "    print(\"⏰ This chart is only visible between 1 PM and 2 PM IST.\")\n",
    "    "
   ]
  },
  {
   "cell_type": "code",
   "execution_count": 72,
   "id": "4c348512",
   "metadata": {},
   "outputs": [],
   "source": [
    "app_data['Month'] = app_data['Last Updated'].dt.to_period('M').astype(str)"
   ]
  },
  {
   "cell_type": "code",
   "execution_count": 73,
   "id": "0ae49c2c",
   "metadata": {},
   "outputs": [],
   "source": [
    "data = app_data[\n",
    "    ~app_data['App'].str.lower().str.startswith(('x', 'y', 'z')) &\n",
    "    ~app_data['App'].str.contains('S', case=True, na=False)\n",
    "]\n"
   ]
  },
  {
   "cell_type": "code",
   "execution_count": 74,
   "id": "0b3863ee",
   "metadata": {},
   "outputs": [],
   "source": [
    "data1 = data[data['Category'].str.startswith(('E', 'C', 'B'))]\n"
   ]
  },
  {
   "cell_type": "code",
   "execution_count": 75,
   "id": "e8f4fece",
   "metadata": {},
   "outputs": [
    {
     "name": "stderr",
     "output_type": "stream",
     "text": [
      "C:\\Users\\MUGUNTHAN.A.R\\AppData\\Local\\Temp\\ipykernel_12476\\2778889227.py:1: SettingWithCopyWarning:\n",
      "\n",
      "\n",
      "A value is trying to be set on a copy of a slice from a DataFrame.\n",
      "Try using .loc[row_indexer,col_indexer] = value instead\n",
      "\n",
      "See the caveats in the documentation: https://pandas.pydata.org/pandas-docs/stable/user_guide/indexing.html#returning-a-view-versus-a-copy\n",
      "\n"
     ]
    }
   ],
   "source": [
    "data1['Reviews']=data1['Size'].astype(float)"
   ]
  },
  {
   "cell_type": "code",
   "execution_count": 76,
   "id": "88dc68aa",
   "metadata": {},
   "outputs": [],
   "source": [
    "data1 = data1[data1['Reviews'] > 500]"
   ]
  },
  {
   "cell_type": "code",
   "execution_count": 77,
   "id": "7835ea5c",
   "metadata": {},
   "outputs": [],
   "source": [
    "category_translation = {\n",
    "    'Beauty': 'सौंदर्य (Hindi)',\n",
    "    'Business': 'வணிகம் (Tamil)',\n",
    "    'Dating': 'Partnersuche (German)'\n",
    "}\n",
    "data1['Category'] = data1['Category'].replace(category_translation)"
   ]
  },
  {
   "cell_type": "code",
   "execution_count": 78,
   "id": "463642dc",
   "metadata": {},
   "outputs": [],
   "source": [
    "ist = pytz.timezone('Asia/Kolkata')\n",
    "current_hour = datetime.now(ist).hour"
   ]
  },
  {
   "cell_type": "code",
   "execution_count": 81,
   "id": "fb0798c3",
   "metadata": {},
   "outputs": [],
   "source": [
    "if 18 <= current_hour <= 21:\n",
    "    # Group by month and category\n",
    "    grouped = app_data.groupby(['Month', 'Category'])['Installs'].sum().reset_index()\n",
    "    grouped.sort_values(by='Month', inplace=True)\n",
    "\n",
    "    fig = go.Figure()\n",
    "\n",
    "    for cat in grouped['Category'].unique():\n",
    "        cat_data = grouped[grouped['Category'] == cat].copy()\n",
    "        cat_data['Prev'] = cat_data['Installs'].shift(1)\n",
    "        cat_data['Growth'] = ((cat_data['Installs'] - cat_data['Prev']) / cat_data['Prev']) * 100\n",
    "        cat_data['Highlight'] = cat_data['Growth'] > 20\n",
    "\n",
    "        # Main Line\n",
    "        fig.add_trace(go.Scatter(\n",
    "            x=cat_data['Month'], y=cat_data['Installs'],\n",
    "            mode='lines+markers', name=cat\n",
    "        ))\n",
    "\n",
    "        # Shading areas of >20% growth\n",
    "        fig.add_trace(go.Scatter(\n",
    "            x=cat_data['Month'],\n",
    "            y=cat_data['Installs'].where(cat_data['Highlight'], None),\n",
    "            fill='tozeroy',\n",
    "            mode='none',\n",
    "            name=f'{cat} (Growth > 20%)',\n",
    "            fillcolor='rgba(255,0,0,0.2)',\n",
    "            showlegend=False\n",
    "        ))\n",
    "\n",
    "    fig.update_layout(\n",
    "        title=\"📈 Install Trend Over Time (Highlighted: >20% Monthly Growth)\",\n",
    "        plot_bgcolor='black',\n",
    "        paper_bgcolor='black',\n",
    "        font_color='white',\n",
    "        title_font={'size':16},\n",
    "        xaxis=dict(title_font={'size':12}),\n",
    "        yaxis=dict(title_font={'size':12}),\n",
    "        xaxis_title=\"Month\",\n",
    "        yaxis_title=\"Total Installs\",\n",
    "        template=\"plotly_white\"\n",
    "    )\n",
    "\n",
    "    save_plot_as_html(fig,\"ScatterPlot2.html\",\"\")\n",
    "\n",
    "else:\n",
    "    print(\"⏰ This graph is only visible between 6 PM and 9 PM IST.\")\n"
   ]
  },
  {
   "cell_type": "code",
   "execution_count": 101,
   "id": "ff785f5c",
   "metadata": {},
   "outputs": [],
   "source": [
    "app_data['Installs'] = app_data['Installs'].astype(float)"
   ]
  },
  {
   "cell_type": "code",
   "execution_count": 102,
   "id": "cf96e09b",
   "metadata": {},
   "outputs": [],
   "source": [
    "app_data['Size'] = pd.to_numeric(app_data['Size'], errors='coerce')\n",
    "app_data['Rating'] = pd.to_numeric(app_data['Rating'], errors='coerce')\n",
    "app_data['Reviews'] = pd.to_numeric(app_data['Reviews'], errors='coerce')"
   ]
  },
  {
   "cell_type": "code",
   "execution_count": 103,
   "id": "fa52c016",
   "metadata": {},
   "outputs": [],
   "source": [
    "app_data['App_Length'] = app_data['App'].str.len()"
   ]
  },
  {
   "cell_type": "code",
   "execution_count": 104,
   "id": "cba0c529",
   "metadata": {},
   "outputs": [],
   "source": [
    "allowed_categories = ['Game', 'Beauty', 'Business', 'Comics', 'Communication', 'Dating', 'Entertainment', 'Social', 'Events']"
   ]
  },
  {
   "cell_type": "code",
   "execution_count": 105,
   "id": "7d90ce74",
   "metadata": {},
   "outputs": [],
   "source": [
    "review_data = review_data.dropna(subset=['Translated_Review', 'Sentiment_Subjectivity'])\n",
    "avg_subjectivity = review_data.groupby('App')['Sentiment_Subjectivity'].mean().reset_index()\n",
    "\n"
   ]
  },
  {
   "cell_type": "code",
   "execution_count": 106,
   "id": "302c1eeb",
   "metadata": {},
   "outputs": [],
   "source": [
    "merged = pd.merge(app_data, avg_subjectivity, on='App', how='inner')"
   ]
  },
  {
   "cell_type": "code",
   "execution_count": 107,
   "id": "5565f9f2",
   "metadata": {},
   "outputs": [],
   "source": [
    "filtered = merged[\n",
    "    (merged['Rating'] > 3.5) &\n",
    "    (merged['Reviews'] > 500) &\n",
    "    (merged['Installs'] > 50000) &\n",
    "    (merged['Category'].isin(allowed_categories)) &\n",
    "    (~merged['App'].str.contains('S')) &\n",
    "    (merged['Sentiment_Subjectivity'] > 0.5)\n",
    "].copy()"
   ]
  },
  {
   "cell_type": "code",
   "execution_count": 108,
   "id": "2c4b425f",
   "metadata": {},
   "outputs": [],
   "source": [
    "filtered['Translated_Category'] = filtered['Category'].replace(category_translation)\n",
    "filtered['Translated_Category'] = filtered['Translated_Category'].fillna(filtered['Category'])\n"
   ]
  },
  {
   "cell_type": "code",
   "execution_count": 109,
   "id": "a50a74a0",
   "metadata": {},
   "outputs": [],
   "source": [
    "india_tz = pytz.timezone('Asia/Kolkata')\n",
    "current_hour = datetime.now(india_tz).hour\n"
   ]
  },
  {
   "cell_type": "code",
   "execution_count": 111,
   "id": "748690fd",
   "metadata": {},
   "outputs": [
    {
     "name": "stdout",
     "output_type": "stream",
     "text": [
      "⏰ This bubble chart is only visible between 5 PM and 7 PM IST.\n"
     ]
    }
   ],
   "source": [
    "if 17 <= current_hour < 19:  # Between 5 PM and 7 PM IST\n",
    "    # Bubble chart using Plotly\n",
    "    fig = px.scatter(\n",
    "        filtered,\n",
    "        x='Size_MB',\n",
    "        y='Rating',\n",
    "        size='Installs',\n",
    "        color='Translated_Category',\n",
    "        hover_name='App',\n",
    "        title='📊 App Size vs Rating (Bubble Size = Installs)',\n",
    "        size_max=60\n",
    "    )\n",
    "\n",
    "    # Highlight \"Game\" category in pink\n",
    "    for i, d in enumerate(fig.data):\n",
    "        if d.name == 'Game':\n",
    "            fig.data[i].marker.color = 'deeppink'\n",
    "\n",
    "    fig.update_layout(\n",
    "        xaxis_title='App Size (MB)',\n",
    "        yaxis_title='Average Rating',\n",
    "        plot_bgcolor='black',\n",
    "        paper_bgcolor='black',\n",
    "        font_color='white',\n",
    "        title_font={'size':16},\n",
    "        xaxis=dict(title_font={'size':12}),\n",
    "        yaxis=dict(title_font={'size':12}),\n",
    "        template='plotly_white'\n",
    "    )\n",
    "\n",
    "    fig.show()\n",
    "\n",
    "else:\n",
    "    print(\"⏰ This bubble chart is only visible between 5 PM and 7 PM IST.\")\n"
   ]
  },
  {
   "cell_type": "code",
   "execution_count": 112,
   "id": "0a6d689e",
   "metadata": {},
   "outputs": [],
   "source": [
    "dashboard_html= \"\"\"\n",
    "<!DOCTYPE html>\n",
    "<html lang=\"en\">\n",
    "<head>\n",
    "    <meta charset=\"UTF-8\">\n",
    "    <meta name=viewport\" content=\"width=device-width,initial-scale-1.0\">\n",
    "    <title> Google Play Store Review Analytics</title>\n",
    "    <style>\n",
    "        body {{\n",
    "            font-family: Arial, sans-serif;\n",
    "            background-color: #333;\n",
    "            color: #fff;\n",
    "            margin: 0;\n",
    "            padding: 0;\n",
    "        }}\n",
    "        .header {{\n",
    "            display: flex;\n",
    "            align-items: center;\n",
    "            justify-content: center;\n",
    "            padding: 20px;\n",
    "            background-color: #444\n",
    "        }}\n",
    "        .header img {{\n",
    "            margin: 0 10px;\n",
    "            height: 50px;\n",
    "        }}\n",
    "        .container {{\n",
    "            display: flex;\n",
    "            flex-wrap: wrap;\n",
    "            justify_content: center;\n",
    "            padding: 20px;\n",
    "        }}\n",
    "        .plot-container {{\n",
    "            border: 2px solid #555\n",
    "            margin: 10px;\n",
    "            padding: 10px;\n",
    "            width: {plot_width}px;\n",
    "            height: {plot_height}px;\n",
    "            overflow: hidden;\n",
    "            position: relative;\n",
    "            cursor: pointer;\n",
    "        }}\n",
    "        .insights {{\n",
    "            display: none;\n",
    "            position: absolute;\n",
    "            right: 10px;\n",
    "            top: 10px;\n",
    "            background-color: rgba(0,0,0,0.7);\n",
    "            padding: 5px;\n",
    "            border-radius: 5px;\n",
    "            color: #fff;\n",
    "        }}\n",
    "        .plot-container: hover .insights {{\n",
    "            display: block;\n",
    "        }}\n",
    "        </style>\n",
    "        <script>\n",
    "            function openPlot(filename) {{\n",
    "                window.open(filename, '_blank');\n",
    "                }}\n",
    "        </script>\n",
    "    </head>\n",
    "    <body>\n",
    "        <div class= \"header\">\n",
    "            <img src=\"https://upload.wikimedia.org/wikipedia/commons/thumb/4/4a/Logo_2013_Google.png/800px-Logo_2013_Google.png\" alt=\"Google Logo\">\n",
    "            <h1>Google Play Store Reviews Analytics</h1>\n",
    "            <img src=\"https://upload.wikimedia.org/wikipedia/commons/thumb/7/78/Google_Play_Store_badge_EN.svg/1024px-Google_Play_Store_badge_EN.svg.png\" alt=\"Google Play Store Logo\">\n",
    "        </div>\n",
    "        <div class=\"container\">\n",
    "            {plots}\n",
    "        </div>\n",
    "    </body>\n",
    "    </html>\n",
    "    \"\"\"\n"
   ]
  },
  {
   "cell_type": "code",
   "execution_count": 113,
   "id": "ade2b8b2",
   "metadata": {},
   "outputs": [],
   "source": [
    "final_html=dashboard_html.format(plots=plot_containers,plot_width=plot_width,plot_height=plot_height)"
   ]
  },
  {
   "cell_type": "code",
   "execution_count": 114,
   "id": "9371d2b5",
   "metadata": {},
   "outputs": [],
   "source": [
    "dashboard_path=os.path.join(html_files_path,\"web page.html\")"
   ]
  },
  {
   "cell_type": "code",
   "execution_count": 115,
   "id": "07a68862",
   "metadata": {},
   "outputs": [],
   "source": [
    "with open(dashboard_path, \"w\", encoding=\"utf-8\") as f:\n",
    "    f.write(final_html)"
   ]
  },
  {
   "cell_type": "code",
   "execution_count": 116,
   "id": "4320e912",
   "metadata": {},
   "outputs": [
    {
     "data": {
      "text/plain": [
       "True"
      ]
     },
     "execution_count": 116,
     "metadata": {},
     "output_type": "execute_result"
    }
   ],
   "source": [
    "webbrowser.open('file://'+os.path.realpath(dashboard_path))"
   ]
  }
 ],
 "metadata": {
  "kernelspec": {
   "display_name": "Python 3",
   "language": "python",
   "name": "python3"
  },
  "language_info": {
   "codemirror_mode": {
    "name": "ipython",
    "version": 3
   },
   "file_extension": ".py",
   "mimetype": "text/x-python",
   "name": "python",
   "nbconvert_exporter": "python",
   "pygments_lexer": "ipython3",
   "version": "3.12.2"
  }
 },
 "nbformat": 4,
 "nbformat_minor": 5
}
